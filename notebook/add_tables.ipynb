{
    "metadata": {
        "kernelspec": {
            "name": "SQL",
            "display_name": "SQL",
            "language": "sql"
        },
        "language_info": {
            "name": "sql",
            "version": ""
        }
    },
    "nbformat_minor": 2,
    "nbformat": 4,
    "cells": [
        {
            "cell_type": "markdown",
            "source": [
                "Data gốc có tận 79 cột và 566 dòng. Mục tiêu của notebook này là giảm số cột đi và bỏ nó vào những bảng khác. \n",
                "\n",
                "Và đó cũng đồng thời là chuẩn hóa 3NF cho data."
            ],
            "metadata": {
                "azdata_cell_guid": "70eae659-c619-478a-972b-d57820df007a"
            },
            "attachments": {}
        },
        {
            "cell_type": "markdown",
            "source": [
                "## Bảng tbl_Address"
            ],
            "metadata": {
                "azdata_cell_guid": "9817006e-35a1-42e8-aef6-724d925f67dd"
            },
            "attachments": {}
        },
        {
            "cell_type": "code",
            "source": [
                "CREATE TABLE tbl_Address\r\n",
                "(\r\n",
                "    School_ID INT FOREIGN KEY REFERENCES dbo.tbl_CHICAGO_PUBLIC_SCHOOLS(School_ID),\r\n",
                "    Street_Adress NVARCHAR(255),\r\n",
                "    ZIP_Code INT,\r\n",
                "    X_COORDINATE FLOAT,\r\n",
                "    Y_COORDINATE FLOAT,\r\n",
                "    Latitude FLOAT,\r\n",
                "    Longitude FLOAT,\r\n",
                "    Ward TEXT,\r\n",
                "    Police_District TEXT,\r\n",
                ");\r\n",
                "\r\n",
                "INSERT INTO tbl_Address\r\n",
                "SELECT School_ID, Street_Address, ZIP_Code, X_COORDINATE, Y_COORDINATE, Latitude, Longitude, Ward, Police_District\r\n",
                "FROM dbo.tbl_CHICAGO_PUBLIC_SCHOOLS\r\n",
                "\r\n",
                "ALTER TABLE dbo.tbl_CHICAGO_PUBLIC_SCHOOLS\r\n",
                "DROP COLUMN Street_Address, ZIP_Code, X_COORDINATE, Y_COORDINATE, Latitude, Longitude, Ward, Police_District;"
            ],
            "metadata": {
                "azdata_cell_guid": "c5feaef2-fff0-435e-8b65-f0dd3575ac2a",
                "language": "sql",
                "tags": []
            },
            "outputs": [],
            "execution_count": null
        },
        {
            "cell_type": "markdown",
            "source": [
                "## Bảng tbl_Contact\n",
                ""
            ],
            "metadata": {
                "azdata_cell_guid": "09e952a5-283c-47fe-8c36-d8ed91b40fc8"
            },
            "attachments": {}
        },
        {
            "cell_type": "code",
            "source": [
                "CREATE TABLE tbl_Contact\r\n",
                "(\r\n",
                "    School_ID INT FOREIGN KEY REFERENCES dbo.tbl_CHICAGO_PUBLIC_SCHOOLS(School_ID),\r\n",
                "    Phone_Number NVARCHAR(50),\r\n",
                "    Link NVARCHAR(255)\r\n",
                ");\r\n",
                "\r\n",
                "INSERT INTO tbl_Contact\r\n",
                "SELECT School_ID, Phone_Number, Link\r\n",
                "FROM dbo.tbl_CHICAGO_PUBLIC_SCHOOLS\r\n",
                "\r\n",
                "ALTER TABLE dbo.tbl_CHICAGO_PUBLIC_SCHOOLS\r\n",
                "DROP COLUMN Phone_Number, Link;"
            ],
            "metadata": {
                "azdata_cell_guid": "78909035-9dd4-4311-8724-7ae794e9c5dc",
                "language": "sql"
            },
            "outputs": [],
            "execution_count": null
        },
        {
            "cell_type": "markdown",
            "source": [
                "## Bảng tbl_Demographics"
            ],
            "metadata": {
                "azdata_cell_guid": "e22c5dfe-16dd-4233-b659-df194f65f905"
            },
            "attachments": {}
        },
        {
            "cell_type": "code",
            "source": [
                "-- Create a new table tbl_Demographics with columns: Community_Area_Number, Community_Area_Name\r\n",
                "CREATE TABLE tbl_Demographics\r\n",
                "(\r\n",
                "    Community_Area_Number INT PRIMARY KEY,\r\n",
                "    Community_Area_Name NVARCHAR(50)\r\n",
                ");\r\n",
                "\r\n",
                "INSERT INTO tbl_Demographics\r\n",
                "SELECT DISTINCT Community_Area_Number, Community_Area_Name\r\n",
                "FROM dbo.tbl_CHICAGO_PUBLIC_SCHOOLS\r\n",
                "\r\n",
                "ALTER TABLE dbo.tbl_CHICAGO_PUBLIC_SCHOOLS\r\n",
                "DROP COLUMN Community_Area_Name;"
            ],
            "metadata": {
                "azdata_cell_guid": "51885390-8c26-4faa-bfd6-997df23c5f70",
                "language": "sql"
            },
            "outputs": [],
            "execution_count": null
        },
        {
            "cell_type": "markdown",
            "source": [
                "## Bảng tbl_Family_Engagement_Envirionment"
            ],
            "metadata": {
                "azdata_cell_guid": "5820bbc8-af07-4cde-8863-e57b4a2c2344"
            },
            "attachments": {}
        },
        {
            "cell_type": "code",
            "source": [
                "CREATE TABLE tbl_Family_Engagement_Environment\r\n",
                "(\r\n",
                "    School_ID INT FOREIGN KEY REFERENCES dbo.tbl_CHICAGO_PUBLIC_SCHOOLS(School_ID),\r\n",
                "    Family_Involvement_Icon NVARCHAR(50),\r\n",
                "    Family_Involvement_Score NVARCHAR(50),\r\n",
                "    Parent_Engagement_Icon NVARCHAR(50),\r\n",
                "    Parent_Engagement_Score NVARCHAR(50),\r\n",
                "    Parent_Environment_Icon NVARCHAR(50),\r\n",
                "    Parent_Environment_Score NVARCHAR(50)\r\n",
                ");\r\n",
                "\r\n",
                "INSERT INTO tbl_Family_Engagement_Environment\r\n",
                "SELECT School_ID, Family_Involvement_Icon, Family_Involvement_Score, Parent_Engagement_Icon, Parent_Engagement_Score, Parent_Environment_Icon, Parent_Environment_Score\r\n",
                "FROM dbo.tbl_CHICAGO_PUBLIC_SCHOOLS\r\n",
                "\r\n",
                "ALTER TABLE dbo.tbl_CHICAGO_PUBLIC_SCHOOLS\r\n",
                "DROP COLUMN Family_Involvement_Icon, Family_Involvement_Score, Parent_Engagement_Icon, Parent_Engagement_Score, Parent_Environment_Icon, Parent_Environment_Score;\r\n",
                ""
            ],
            "metadata": {
                "azdata_cell_guid": "a5a88322-e5c2-4a7c-b4d1-66dd2265b30a",
                "language": "sql"
            },
            "outputs": [],
            "execution_count": null
        },
        {
            "cell_type": "markdown",
            "source": [
                "## Bảng tbl_ISAT"
            ],
            "metadata": {
                "azdata_cell_guid": "14330e6d-ce97-4de4-965d-59e0c7c98bc3"
            },
            "attachments": {}
        },
        {
            "cell_type": "code",
            "source": [
                "CREATE TABLE tbl_ISAT\r\n",
                "(\r\n",
                "    School_ID INT FOREIGN KEY REFERENCES dbo.tbl_CHICAGO_PUBLIC_SCHOOLS(School_ID),\r\n",
                "    ISAT_Exceeding_Math FLOAT,\r\n",
                "    ISAT_Exceeding_Reading FLOAT,\r\n",
                "    ISAT_Value_Add_Math FLOAT,\r\n",
                "    ISAT_Value_Add_Read FLOAT,\r\n",
                "    ISAT_Value_Add_Color_Math NVARCHAR(50),\r\n",
                "    ISAT_Value_Add_Color_Read NVARCHAR(50)\r\n",
                ");\r\n",
                "\r\n",
                "INSERT INTO tbl_ISAT\r\n",
                "SELECT School_ID, ISAT_Exceeding_Math, ISAT_Exceeding_Reading, ISAT_Value_Add_Math, ISAT_Value_Add_Read, ISAT_Value_Add_Color_Math, ISAT_Value_Add_Color_Read\r\n",
                "FROM dbo.tbl_CHICAGO_PUBLIC_SCHOOLS\r\n",
                "\r\n",
                "ALTER TABLE dbo.tbl_CHICAGO_PUBLIC_SCHOOLS\r\n",
                "DROP COLUMN ISAT_Exceeding_Math, ISAT_Exceeding_Reading, ISAT_Value_Add_Math, ISAT_Value_Add_Read, ISAT_Value_Add_Color_Math, ISAT_Value_Add_Color_Read;"
            ],
            "metadata": {
                "azdata_cell_guid": "68c51d73-905f-424d-8e27-124556955cd0",
                "language": "sql",
                "tags": [
                    "hide_input"
                ]
            },
            "outputs": [],
            "execution_count": null
        },
        {
            "cell_type": "markdown",
            "source": [
                "## Bảng tbl_Teachers \r\n",
                ""
            ],
            "metadata": {
                "azdata_cell_guid": "0c1a7324-e338-40d5-8415-2b4429ac2465"
            },
            "attachments": {}
        },
        {
            "cell_type": "code",
            "source": [
                "CREATE TABLE tbl_Teachers\r\n",
                "(\r\n",
                "    School_ID INT FOREIGN KEY REFERENCES dbo.tbl_CHICAGO_PUBLIC_SCHOOLS(School_ID),\r\n",
                "    Teachers_Icon NVARCHAR(50),\r\n",
                "    Teachers_Score NVARCHAR(50),\r\n",
                "    Average_Teacher_Attendance FLOAT\r\n",
                ");\r\n",
                "\r\n",
                "INSERT INTO tbl_Teachers\r\n",
                "SELECT School_ID, Teachers_Icon, Teachers_Score, Average_Teacher_Attendance\r\n",
                "FROM dbo.tbl_CHICAGO_PUBLIC_SCHOOLS\r\n",
                "\r\n",
                "ALTER TABLE dbo.tbl_CHICAGO_PUBLIC_SCHOOLS\r\n",
                "DROP COLUMN Teachers_Icon, Teachers_Score, Average_Teacher_Attendance;"
            ],
            "metadata": {
                "azdata_cell_guid": "c453d6f7-8393-4324-b983-0b5ab02901fe",
                "language": "sql"
            },
            "outputs": [],
            "execution_count": null
        },
        {
            "cell_type": "markdown",
            "source": [
                "## Bảng TBL_Leaders"
            ],
            "metadata": {
                "azdata_cell_guid": "55f38106-0a91-4931-9f88-f1c0348864ef"
            },
            "attachments": {}
        },
        {
            "cell_type": "code",
            "source": [
                "CREATE TABLE tbl_Leaders\r\n",
                "(\r\n",
                "    School_ID INT FOREIGN KEY REFERENCES dbo.tbl_CHICAGO_PUBLIC_SCHOOLS(School_ID),\r\n",
                "    Leaders_Icon NVARCHAR(50),\r\n",
                "    Leaders_Score NVARCHAR(50)\r\n",
                ");\r\n",
                "\r\n",
                "INSERT INTO tbl_Leaders\r\n",
                "SELECT School_ID, Leaders_Icon, Leaders_Score\r\n",
                "FROM dbo.tbl_CHICAGO_PUBLIC_SCHOOLS\r\n",
                "\r\n",
                "ALTER TABLE dbo.tbl_CHICAGO_PUBLIC_SCHOOLS\r\n",
                "DROP COLUMN Leaders_Icon, Leaders_Score;"
            ],
            "metadata": {
                "azdata_cell_guid": "221ab882-5bfb-445f-9541-7221b9b32ccf",
                "language": "sql"
            },
            "outputs": [],
            "execution_count": null
        },
        {
            "cell_type": "markdown",
            "source": [
                "## Bảng tbl_Intruction"
            ],
            "metadata": {
                "azdata_cell_guid": "c53f3fbb-11fd-43e7-b196-c1ae0ffc1f9f"
            },
            "attachments": {}
        },
        {
            "cell_type": "code",
            "source": [
                "CREATE TABLE tbl_Instruction\r\n",
                "(\r\n",
                "    School_ID INT FOREIGN KEY REFERENCES dbo.tbl_CHICAGO_PUBLIC_SCHOOLS(School_ID),\r\n",
                "    Instruction_Icon NVARCHAR(50),\r\n",
                "    Instruction_Score NVARCHAR(50)\r\n",
                ");\r\n",
                "\r\n",
                "INSERT INTO tbl_Instruction\r\n",
                "SELECT School_ID, Instruction_Icon, Instruction_Score\r\n",
                "FROM dbo.tbl_CHICAGO_PUBLIC_SCHOOLS\r\n",
                "\r\n",
                "ALTER TABLE dbo.tbl_CHICAGO_PUBLIC_SCHOOLS \r\n",
                "DROP COLUMN Instruction_Icon, Instruction_Score;"
            ],
            "metadata": {
                "azdata_cell_guid": "a119328e-df71-4fd0-8e32-5215bde5cbef",
                "language": "sql",
                "tags": []
            },
            "outputs": [],
            "execution_count": null
        },
        {
            "cell_type": "markdown",
            "source": [
                "## Bảng tbl_School_Survey"
            ],
            "metadata": {
                "azdata_cell_guid": "368aafa2-8c4f-4dce-ad13-bd77d059c3e3"
            },
            "attachments": {}
        },
        {
            "cell_type": "code",
            "source": [
                "CREATE TABLE tbl_School_Survey\r\n",
                "(\r\n",
                "    School_ID INT FOREIGN KEY REFERENCES dbo.tbl_CHICAGO_PUBLIC_SCHOOLS(School_ID),\r\n",
                "    Safety_Icon NVARCHAR(50),\r\n",
                "    Safety_Score NVARCHAR(50),\r\n",
                "    Environment_Icon NVARCHAR(50),\r\n",
                "    Environment_Score NVARCHAR(50),\r\n",
                "    CPS_Performance_Policy_Status NVARCHAR(50),\r\n",
                "    CPS_Performance_Policy_Level NVARCHAR(50),\r\n",
                "    Healthy_Schools_Certified NVARCHAR(50),\r\n",
                "    Adequate_Yearly_Progress_Made NVARCHAR(50),\r\n",
                "    Individualized_Education_Program_Compliance_Rate FLOAT\r\n",
                ");\r\n",
                "\r\n",
                "INSERT INTO tbl_School_Survey\r\n",
                "SELECT School_ID, Safety_Icon, Safety_Score, Environment_Icon, Environment_Score, CPS_Performance_Policy_Status, CPS_Performance_Policy_Level, Healthy_Schools_Certified,Adequate_Yearly_Progress_Made,Individualized_Education_Program_Compliance_Rate\r\n",
                "FROM dbo.tbl_CHICAGO_PUBLIC_SCHOOLS\r\n",
                "\r\n",
                "ALTER TABLE dbo.tbl_CHICAGO_PUBLIC_SCHOOLS\r\n",
                "DROP COLUMN Safety_Icon, Safety_Score, Environment_Icon, Environment_Score, CPS_Performance_Policy_Status, CPS_Performance_Policy_Level, Healthy_Schools_Certified,Adequate_Yearly_Progress_Made,Individualized_Education_Program_Compliance_Rate;"
            ],
            "metadata": {
                "azdata_cell_guid": "ac5f31dd-39bd-455d-a419-b843bd4f65ab",
                "language": "sql"
            },
            "outputs": [],
            "execution_count": null
        },
        {
            "cell_type": "markdown",
            "source": [
                "## Bảng tbl_Academic_Performance "
            ],
            "metadata": {
                "azdata_cell_guid": "229c9ef9-feb6-4466-afd3-cbfbc4d6b9ca"
            },
            "attachments": {}
        },
        {
            "cell_type": "code",
            "source": [
                "CREATE TABLE tbl_Academic_Performance\r\n",
                "(\r\n",
                "    School_ID INT FOREIGN KEY REFERENCES dbo.tbl_CHICAGO_PUBLIC_SCHOOLS(School_ID),\r\n",
                "    Pk_2_Literacy NVARCHAR(50),\r\n",
                "    Pk_2_Math NVARCHAR(50),\r\n",
                "    Gr3_5_Grade_Level_Math NVARCHAR(50),\r\n",
                "    Gr3_5_Grade_Level_Read NVARCHAR(50),\r\n",
                "    Gr3_5_Keep_Pace_Read NVARCHAR(50),\r\n",
                "    Gr3_5_Keep_Pace_Math NVARCHAR(50),\r\n",
                "    Gr6_8_Grade_Level_Math NVARCHAR(50),\r\n",
                "    Gr6_8_Grade_Level_Read NVARCHAR(50),\r\n",
                "    Gr6_8_Keep_Pace_Math NVARCHAR(50),\r\n",
                "    Gr6_8_Keep_Pace_Read NVARCHAR(50),\r\n",
                "    Gr_8_Explore_Math NVARCHAR(50),\r\n",
                "    Gr_8_Explore_Read NVARCHAR(50),\r\n",
                "    Students_Taking_Algebra NVARCHAR(50),\r\n",
                "    Students_Passing_Algebra NVARCHAR(50),\r\n",
                "    _9th_Grade_EXPLORE_2009 NVARCHAR(50),\r\n",
                "    _9th_Grade_EXPLORE_2010 NVARCHAR(50),\r\n",
                "    _10th_Grade_PLAN_2009 NVARCHAR(50),\r\n",
                "    _10th_Grade_PLAN_2010 NVARCHAR(50),\r\n",
                "    Net_Change_EXPLORE_and_PLAN NVARCHAR(50),\r\n",
                "    _11th_Grade_Average_ACT_2011 NVARCHAR(50),\r\n",
                "    Net_Change_PLAN_and_ACT NVARCHAR(50)\r\n",
                ");\r\n",
                "\r\n",
                "INSERT INTO tbl_Academic_Performance\r\n",
                "SELECT School_ID, Pk_2_Literacy, Pk_2_Math, Gr3_5_Grade_Level_Math, Gr3_5_Grade_Level_Read, Gr3_5_Keep_Pace_Read, Gr3_5_Keep_Pace_Math, Gr6_8_Grade_Level_Math, Gr6_8_Grade_Level_Read, Gr6_8_Keep_Pace_Math, Gr6_8_Keep_Pace_Read, Gr_8_Explore_Math, Gr_8_Explore_Read, Students_Taking_Algebra, Students_Passing_Algebra, _9th_Grade_EXPLORE_2009, _9th_Grade_EXPLORE_2010, _10th_Grade_PLAN_2009, _10th_Grade_PLAN_2010, Net_Change_EXPLORE_and_PLAN, _11th_Grade_Average_ACT_2011, Net_Change_PLAN_and_ACT\r\n",
                "FROM dbo.tbl_CHICAGO_PUBLIC_SCHOOLS\r\n",
                "\r\n",
                "ALTER TABLE dbo.tbl_CHICAGO_PUBLIC_SCHOOLS\r\n",
                "DROP COLUMN Pk_2_Literacy, Pk_2_Math, Gr3_5_Grade_Level_Math, Gr3_5_Grade_Level_Read, Gr3_5_Keep_Pace_Read, Gr3_5_Keep_Pace_Math, Gr6_8_Grade_Level_Math, Gr6_8_Grade_Level_Read, Gr6_8_Keep_Pace_Math, Gr6_8_Keep_Pace_Read, Gr_8_Explore_Math, Gr_8_Explore_Read, Students_Taking_Algebra, Students_Passing_Algebra, _9th_Grade_EXPLORE_2009, _9th_Grade_EXPLORE_2010, _10th_Grade_PLAN_2009, _10th_Grade_PLAN_2010, Net_Change_EXPLORE_and_PLAN, _11th_Grade_Average_ACT_2011, Net_Change_PLAN_and_ACT;\r\n",
                ""
            ],
            "metadata": {
                "azdata_cell_guid": "48aad632-9b74-4e1b-9ae1-325b3adedb2b",
                "language": "sql",
                "tags": [
                    "hide_input"
                ]
            },
            "outputs": [],
            "execution_count": null
        },
        {
            "cell_type": "markdown",
            "source": [
                "## Bảng tbl_Gradutation_Enrollment"
            ],
            "metadata": {
                "azdata_cell_guid": "1e51d7a3-5c19-4835-b0d5-c5661376bf1a"
            },
            "attachments": {}
        },
        {
            "cell_type": "code",
            "source": [
                "CREATE TABLE tbl_Graduation_Enrollment\r\n",
                "(\r\n",
                "    School_ID INT FOREIGN KEY REFERENCES dbo.tbl_CHICAGO_PUBLIC_SCHOOLS(School_ID),\r\n",
                "    College_Eligibility NVARCHAR(50),\r\n",
                "    Graduation_Rate NVARCHAR(50),\r\n",
                "    College_Enrollment_Rate NVARCHAR(50),\r\n",
                "    College_Enrollment_number_of_students NVARCHAR(50),\r\n",
                "    Freshman_on_Track_Rate NVARCHAR(50)\r\n",
                ");\r\n",
                "\r\n",
                "INSERT INTO tbl_Graduation_Enrollment\r\n",
                "SELECT School_ID, College_Eligibility, Graduation_Rate, College_Enrollment_Rate, College_Enrollment_number_of_students, Freshman_on_Track_Rate\r\n",
                "FROM dbo.tbl_CHICAGO_PUBLIC_SCHOOLS\r\n",
                "\r\n",
                "ALTER TABLE dbo.tbl_CHICAGO_PUBLIC_SCHOOLS\r\n",
                "DROP COLUMN College_Eligibility, Graduation_Rate, College_Enrollment_Rate, College_Enrollment_number_of_students, Freshman_on_Track_Rate;\r\n",
                ""
            ],
            "metadata": {
                "azdata_cell_guid": "846badc1-483f-4711-9e66-6bb471ef4a6b",
                "language": "sql",
                "tags": [
                    "hide_input"
                ]
            },
            "outputs": [],
            "execution_count": null
        },
        {
            "cell_type": "markdown",
            "source": [
                "## Bảng tbl_Student_Performance"
            ],
            "metadata": {
                "azdata_cell_guid": "f68e3563-3557-4ab8-aebf-ea6c48a0d353"
            },
            "attachments": {}
        },
        {
            "cell_type": "code",
            "source": [
                "--CREATE TABLE tbl_Student_Performance columns School_ID (FOREIGN KEY), Student_Attendance,Rate_of_Misconducts_per_100_students\n",
                "CREATE TABLE tbl_Student_Performance\n",
                "(\n",
                "    School_ID INT FOREIGN KEY REFERENCES dbo.tbl_CHICAGO_PUBLIC_SCHOOLS(School_ID),\n",
                "    Average_Student_Attendance FLOAT,\n",
                "    Rate_of_Misconducts_per_100_students FLOAT\n",
                ");\n",
                "\n",
                "INSERT INTO tbl_Student_Performance\n",
                "SELECT School_ID, Average_Student_Attendance, Rate_of_Misconducts_per_100_students\n",
                "FROM dbo.tbl_CHICAGO_PUBLIC_SCHOOLS\n",
                "\n",
                "ALTER TABLE dbo.tbl_CHICAGO_PUBLIC_SCHOOLS\n",
                "DROP COLUMN Average_Student_Attendance, Rate_of_Misconducts_per_100_students;"
            ],
            "metadata": {
                "azdata_cell_guid": "7e3e3472-b720-499b-941b-d173e732bc85",
                "language": "sql"
            },
            "outputs": [],
            "execution_count": null
        },
        {
            "cell_type": "markdown",
            "source": [
                ""
            ],
            "metadata": {
                "azdata_cell_guid": "8659ff99-ff6f-4440-a83d-26958ec9ef14"
            }
        }
    ]
}