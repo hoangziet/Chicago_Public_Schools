{
    "metadata": {
        "kernelspec": {
            "name": "SQL",
            "display_name": "SQL",
            "language": "sql"
        },
        "language_info": {
            "name": "sql",
            "version": ""
        }
    },
    "nbformat_minor": 2,
    "nbformat": 4,
    "cells": [
        {
            "cell_type": "markdown",
            "source": [
                "Tạo hàm truy vấn tên trường, các loại hình liên lạc của trường thông qua id"
            ],
            "metadata": {
                "azdata_cell_guid": "eddc54d2-2462-4b70-b96e-f8c2d5d0e592"
            },
            "attachments": {}
        },
        {
            "cell_type": "code",
            "source": [
                "CREATE FUNCTION get_school_info(@School_ID INT)\r\n",
                "RETURNS TABLE\r\n",
                "AS\r\n",
                "RETURN\r\n",
                "(\r\n",
                "    SELECT \r\n",
                "        cps.School_ID,\r\n",
                "        cps.Name_of_School,\r\n",
                "        'Chiago' as City, \r\n",
                "        'IL' as State,\r\n",
                "        a.ZIP_Code, \r\n",
                "        a.Street_Adress,\r\n",
                "        c.Phone_Number, \r\n",
                "        c.Link\r\n",
                "    FROM dbo.tbl_CHICAGO_PUBLIC_SCHOOLS cps \r\n",
                "    JOIN dbo.tbl_Address a ON cps.School_ID = a.School_ID\r\n",
                "    JOIN dbo.tbl_Contact c ON cps.School_ID = c.School_ID\r\n",
                "    WHERE cps.School_ID = @School_ID\r\n",
                "\r\n",
                ");"
            ],
            "metadata": {
                "azdata_cell_guid": "4e79e2c9-32ce-4113-8014-164c4c08f46c",
                "language": "sql",
                "tags": []
            },
            "outputs": [
                {
                    "output_type": "error",
                    "evalue": "Msg 2714, Level 16, State 3, Procedure get_school_info, Line 1\r\nThere is already an object named 'get_school_info' in the database.",
                    "ename": "",
                    "traceback": []
                },
                {
                    "output_type": "display_data",
                    "data": {
                        "text/html": "Total execution time: 00:00:00.110"
                    },
                    "metadata": {}
                }
            ],
            "execution_count": 4
        },
        {
            "cell_type": "code",
            "source": [
                "SELECT * FROM get_school_info(609674)"
            ],
            "metadata": {
                "azdata_cell_guid": "8ee363d9-0e62-4cf4-be49-b7eb0ff9cf86",
                "language": "sql"
            },
            "outputs": [
                {
                    "output_type": "display_data",
                    "data": {
                        "text/html": "(1 row affected)"
                    },
                    "metadata": {}
                },
                {
                    "output_type": "display_data",
                    "data": {
                        "text/html": "Total execution time: 00:00:00.103"
                    },
                    "metadata": {}
                },
                {
                    "output_type": "execute_result",
                    "metadata": {},
                    "execution_count": 6,
                    "data": {
                        "application/vnd.dataresource+json": {
                            "schema": {
                                "fields": [
                                    {
                                        "name": "School_ID"
                                    },
                                    {
                                        "name": "Name_of_School"
                                    },
                                    {
                                        "name": "City"
                                    },
                                    {
                                        "name": "State"
                                    },
                                    {
                                        "name": "ZIP_Code"
                                    },
                                    {
                                        "name": "Street_Adress"
                                    },
                                    {
                                        "name": "Phone_Number"
                                    },
                                    {
                                        "name": "Link"
                                    }
                                ]
                            },
                            "data": [
                                {
                                    "School_ID": "609674",
                                    "Name_of_School": "Chicago Vocational Career Academy High School",
                                    "City": "Chiago",
                                    "State": "IL",
                                    "ZIP_Code": "60617",
                                    "Street_Adress": "2100 E 87th St ",
                                    "Phone_Number": "(773) 535-6100",
                                    "Link": "http://schoolreports.cps.edu/SchoolProgressReport_Eng/Spring2011Eng_609674.pdf"
                                }
                            ]
                        },
                        "text/html": [
                            "<table>",
                            "<tr><th>School_ID</th><th>Name_of_School</th><th>City</th><th>State</th><th>ZIP_Code</th><th>Street_Adress</th><th>Phone_Number</th><th>Link</th></tr>",
                            "<tr><td>609674</td><td>Chicago Vocational Career Academy High School</td><td>Chiago</td><td>IL</td><td>60617</td><td>2100 E 87th St </td><td>(773) 535-6100</td><td>http://schoolreports.cps.edu/SchoolProgressReport_Eng/Spring2011Eng_609674.pdf</td></tr>",
                            "</table>"
                        ]
                    }
                }
            ],
            "execution_count": 6
        }
    ]
}