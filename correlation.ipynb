{
 "cells": [
  {
   "cell_type": "markdown",
   "metadata": {},
   "source": [
    "# Import libary"
   ]
  },
  {
   "cell_type": "code",
   "execution_count": 21,
   "metadata": {},
   "outputs": [],
   "source": [
    "import pyodbc\n",
    "import pandas as pd\n",
    "import seaborn as sns\n",
    "import matplotlib.pyplot as plt"
   ]
  },
  {
   "cell_type": "markdown",
   "metadata": {},
   "source": [
    "## Connect to database "
   ]
  },
  {
   "cell_type": "code",
   "execution_count": 3,
   "metadata": {},
   "outputs": [],
   "source": [
    "# Read password from file\n",
    "f= open('./password.txt','r')\n",
    "pw = f.read()\n",
    "f.close()\n",
    "\n",
    "#ODBC (Includes Node.js) (SQL authentication)\n",
    "s = \"Driver={ODBC Driver 18 for SQL Server};Server=tcp:serverz.database.windows.net,1433;Database=DB_LAB03;Uid=tendangnhap;\"+f\"Pwd={pw};\"+\"Encrypt=yes;TrustServerCertificate=no;Connection Timeout=30;\"\n"
   ]
  },
  {
   "cell_type": "code",
   "execution_count": 4,
   "metadata": {},
   "outputs": [],
   "source": [
    "## Connect to the database\n",
    "conn = pyodbc.connect(s)\n",
    "cursor = conn.cursor()"
   ]
  },
  {
   "cell_type": "markdown",
   "metadata": {},
   "source": [
    "# Correlation\n",
    "**Correlation** (tương quan) là một khái niệm trong thống kê để đo lường mức độ liên quan giữa hai biến số. Nó cho biết liệu hai biến có xu hướng thay đổi cùng chiều hay không.\n",
    "Trong Python, thư viện `pandas` cung cấp phương thức `corr()` để tính toán hệ số tương quan giữa hai cột hoặc hai Series trong DataFrame.\n",
    "\n",
    "**Hệ số tương quan** là một số trong khoảng từ -1 đến 1:\n",
    "\n",
    "+ Nếu hệ số tương quan là 1, điều đó có nghĩa là hai biến tăng hoặc giảm hoàn toàn đồng bộ (tương quan tuyến tính dương hoàn hảo).\n",
    "+ Nếu hệ số tương quan là -1, điều đó có nghĩa là khi một biến tăng thì biến kia giảm và ngược lại (tương quan tuyến tính âm hoàn hảo).\n",
    "+ Nếu hệ số tương quan là 0, điều đó có nghĩa là hai biến không có mối liên hệ tuyến tính với nhau.\n"
   ]
  },
  {
   "cell_type": "markdown",
   "metadata": {},
   "source": [
    "## Between Safety_score, Average_Student_Attendance, Environment_Score"
   ]
  },
  {
   "cell_type": "code",
   "execution_count": 10,
   "metadata": {},
   "outputs": [
    {
     "name": "stderr",
     "output_type": "stream",
     "text": [
      "<ipython-input-10-9811a83e82e1>:1: UserWarning: pandas only supports SQLAlchemy connectable (engine/connection) or database string URI or sqlite3 DBAPI2 connection. Other DBAPI2 objects are not tested. Please consider using SQLAlchemy.\n",
      "  tbl_Student_Performance = pd.read_sql(\"SELECT * FROM tbl_Student_Performance\", conn)\n",
      "<ipython-input-10-9811a83e82e1>:2: UserWarning: pandas only supports SQLAlchemy connectable (engine/connection) or database string URI or sqlite3 DBAPI2 connection. Other DBAPI2 objects are not tested. Please consider using SQLAlchemy.\n",
      "  tbl_School_Survey = pd.read_sql(\"SELECT * FROM tbl_School_Survey\", conn)\n"
     ]
    }
   ],
   "source": [
    "tbl_Student_Performance = pd.read_sql(\"SELECT * FROM tbl_Student_Performance\", conn)\n",
    "tbl_School_Survey = pd.read_sql(\"SELECT * FROM tbl_School_Survey\", conn)"
   ]
  },
  {
   "cell_type": "code",
   "execution_count": 13,
   "metadata": {},
   "outputs": [
    {
     "name": "stdout",
     "output_type": "stream",
     "text": [
      "Index(['School_ID', 'Average_Student_Attendance',\n",
      "       'Rate_of_Misconducts_per_100_students', 'Safety_Icon', 'Safety_Score',\n",
      "       'Environment_Icon', 'Environment_Score',\n",
      "       'CPS_Performance_Policy_Status', 'CPS_Performance_Policy_Level',\n",
      "       'Healthy_Schools_Certified', 'Adequate_Yearly_Progress_Made',\n",
      "       'Individualized_Education_Program_Compliance_Rate'],\n",
      "      dtype='object')\n"
     ]
    }
   ],
   "source": [
    "joined = pd.merge(tbl_Student_Performance, tbl_School_Survey, on='School_ID')\n",
    "print(joined.columns)"
   ]
  },
  {
   "cell_type": "code",
   "execution_count": 22,
   "metadata": {},
   "outputs": [
    {
     "name": "stdout",
     "output_type": "stream",
     "text": [
      "                            Safety_Score  Average_Student_Attendance  \\\n",
      "Safety_Score                    1.000000                    0.339597   \n",
      "Average_Student_Attendance      0.339597                    1.000000   \n",
      "Environment_Score               0.585865                    0.245320   \n",
      "\n",
      "                            Environment_Score  \n",
      "Safety_Score                         0.585865  \n",
      "Average_Student_Attendance           0.245320  \n",
      "Environment_Score                    1.000000  \n"
     ]
    },
    {
     "data": {
      "image/png": "[encoded data removed]",
      "text/plain": [
       "<Figure size 432x288 with 2 Axes>"
      ]
     },
     "metadata": {
      "needs_background": "light"
     },
     "output_type": "display_data"
    }
   ],
   "source": [
    "features = ['Safety_Score', 'Average_Student_Attendance', 'Environment_Score']\n",
    "\n",
    "joined = joined[features]\n",
    "#Convert to float \n",
    "joined['Safety_Score'] = joined['Safety_Score'].astype(float)\n",
    "joined['Average_Student_Attendance'] = joined['Average_Student_Attendance'].astype(float)\n",
    "joined['Environment_Score'] = joined['Environment_Score'].astype(float)\n",
    "\n",
    "\n",
    "# Calculate correlation\n",
    "correlation = joined.corr()\n",
    "print(correlation)\n",
    "\n",
    "# Create heatmap\n",
    "sns.heatmap(correlation, annot=True)\n",
    "plt.show()\n"
   ]
  }
 ],
 "metadata": {
  "kernelspec": {
   "display_name": "base",
   "language": "python",
   "name": "python3"
  },
  "language_info": {
   "codemirror_mode": {
    "name": "ipython",
    "version": 3
   },
   "file_extension": ".py",
   "mimetype": "text/x-python",
   "name": "python",
   "nbconvert_exporter": "python",
   "pygments_lexer": "ipython3",
   "version": "3.11.7"
  }
 },
 "nbformat": 4,
 "nbformat_minor": 2
}
