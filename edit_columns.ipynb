{
    "metadata": {
        "kernelspec": {
            "name": "SQL",
            "display_name": "SQL",
            "language": "sql"
        },
        "language_info": {
            "name": "sql",
            "version": ""
        }
    },
    "nbformat_minor": 2,
    "nbformat": 4,
    "cells": [
        {
            "cell_type": "markdown",
            "source": [
                "Đặt cột School\\_ID làm khóa chính"
            ],
            "metadata": {
                "azdata_cell_guid": "c20cc2bc-0135-40ad-bb9d-0065b1bf1a1a"
            },
            "attachments": {}
        },
        {
            "cell_type": "code",
            "source": [
                "ALTER TABLE dbo.tbl_CHICAGO_PUBLIC_SCHOOLS\r\n",
                "ALTER COLUMN School_ID INT NOT NULL\r\n",
                "\r\n",
                "ALTER TABLE dbo.tbl_CHICAGO_PUBLIC_SCHOOLS\r\n",
                "ADD CONSTRAINT PK_School_ID PRIMARY KEY (School_ID)"
            ],
            "metadata": {
                "azdata_cell_guid": "c5ab54a5-86a8-465f-9e59-ab99f9a5a1fc",
                "language": "sql"
            },
            "outputs": [],
            "execution_count": null
        },
        {
            "cell_type": "markdown",
            "source": [
                "Xử lý các cột \n",
                "+ Xóa cột nội suy (*Derived column*): `location` (nội suy từ `latitude` và `longitude`) \n",
                "+ Xóa và đặt biến tạm cho cột có một giá trị duy nhất (*Constant column*) cho tất cả các hàng : `City` và `State`"
            ],
            "metadata": {
                "azdata_cell_guid": "f14d9f38-fae4-406a-9f99-b9a4419bdf8c"
            },
            "attachments": {}
        },
        {
            "cell_type": "code",
            "source": [
                "-- Drop derived column [location] (derived from latitude and longitude )\r\n",
                "ALTER TABLE dbo.tbl_CHICAGO_PUBLIC_SCHOOLSSchool_Type\r\n",
                "DROP COLUMN location;"
            ],
            "metadata": {
                "azdata_cell_guid": "066a3e6f-8679-42b9-923d-62239e9fd3a1",
                "language": "sql"
            },
            "outputs": [],
            "execution_count": null
        },
        {
            "cell_type": "code",
            "source": [
                "-- Drop [city] column (has only value 'Chicago') and create a var @city to save it \r\n",
                "ALTER TABLE dbo.tbl_CHICAGO_PUBLIC_SCHOOLS\r\n",
                "DROP COLUMN city;\r\n",
                "\r\n",
                "DECLARE @city VARCHAR(10);\r\n",
                "SET @city = 'Chicago'\r\n",
                "PRINT @city"
            ],
            "metadata": {
                "azdata_cell_guid": "c07c2922-c57b-4d93-9b36-527b23752e00",
                "language": "sql"
            },
            "outputs": [],
            "execution_count": null
        },
        {
            "cell_type": "code",
            "source": [
                "-- Drop [state] column (has only value 'IL') and create a var @state to save it\r\n",
                "ALTER TABLE dbo.tbl_CHICAGO_PUBLIC_SCHOOLS\r\n",
                "DROP COLUMN state;\r\n",
                "\r\n",
                "DECLARE @state VARCHAR(2);\r\n",
                "SET @state = 'IL'\r\n",
                "PRINT @state\r\n",
                ""
            ],
            "metadata": {
                "azdata_cell_guid": "469a778c-e833-45ed-9255-469c6f2c5868",
                "language": "sql"
            },
            "outputs": [],
            "execution_count": null
        },
        {
            "cell_type": "code",
            "source": [
                "-- Drop [RCDTS_Code] column (has only value '150000000000000') and create a var @RCDTS to save it\r\n",
                "ALTER TABLE dbo.tbl_CHICAGO_PUBLIC_SCHOOLS\r\n",
                "DROP COLUMN RCDTS_Code;\r\n",
                "\r\n",
                "DECLARE @RCDTS VARCHAR(15);\r\n",
                "SET @RCDTS = '150000000000000'"
            ],
            "metadata": {
                "azdata_cell_guid": "eeae9e9c-83d9-45e6-8b70-cf8ae73abc0c",
                "language": "sql"
            },
            "outputs": [],
            "execution_count": null
        }
    ]
}