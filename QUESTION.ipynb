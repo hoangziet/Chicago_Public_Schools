{
 "cells": [
  {
   "cell_type": "markdown",
   "metadata": {},
   "source": [
    "# 1"
   ]
  },
  {
   "cell_type": "code",
   "execution_count": null,
   "metadata": {
    "vscode": {
     "languageId": "sql"
    }
   },
   "outputs": [],
   "source": [
    "-- Chọn ra 5 trường có điểm trung bình ISAT cao nhất và lấy thông tin trường đó bằng hàm get_school_info\n",
    "WITH tmp AS\n",
    "(\n",
    "    SELECT TOP 5 School_ID, AVG(ISAT_Exceeding_Math + ISAT_Exceeding_Reading + ISAT_Value_Add_Math + ISAT_Value_Add_Read) AS AVG_ISAT\n",
    "    FROM dbo.tbl_ISAT\n",
    "    GROUP BY School_ID\n",
    "    ORDER BY AVG_ISAT DESC\n",
    ") \n",
    "SELECT *\n",
    "FROM tmp\n",
    "CROSS APPLY get_school_info(tmp.School_ID)\n",
    "ORDER BY AVG_ISAT DESC;"
   ]
  },
  {
   "cell_type": "markdown",
   "metadata": {},
   "source": [
    "# 2"
   ]
  },
  {
   "cell_type": "code",
   "execution_count": null,
   "metadata": {
    "vscode": {
     "languageId": "sql"
    }
   },
   "outputs": [],
   "source": [
    "-- Chọn ra 5 trường an toàn để học nhất dựa vào các tiêu chí \n",
    "-- safety_score cao nhất, healthy_schools_certified = 'Yes' và Rate_of_Misconducts_per_100_students thấp nhất\n",
    "WITH tmp AS\n",
    "(\n",
    "    SELECT TOP 5 ss.School_ID, safety_score, healthy_schools_certified, Rate_of_Misconducts_per_100_students\n",
    "    FROM dbo.tbl_School_Survey ss\n",
    "    JOIN dbo.tbl_Student_Performance sp\n",
    "    ON ss.School_ID = sp.School_ID\n",
    "    WHERE Healthy_Schools_Certified = 'Yes'\n",
    "    ORDER BY safety_score DESC, Rate_of_Misconducts_per_100_students ASC\n",
    ")\n",
    "SELECT * FROM tmp\n",
    "CROSS APPLY get_school_info(tmp.School_ID)"
   ]
  }
 ],
 "metadata": {
  "language_info": {
   "name": "python"
  }
 },
 "nbformat": 4,
 "nbformat_minor": 2
}
