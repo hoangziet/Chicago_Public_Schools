{
 "cells": [
  {
   "cell_type": "code",
   "execution_count": 1,
   "metadata": {},
   "outputs": [],
   "source": [
    "import pyodbc\n",
    "import pandas as pd\n",
    "import seaborn as sns\n",
    "import matplotlib.pyplot as plt"
   ]
  },
  {
   "cell_type": "code",
   "execution_count": 3,
   "metadata": {},
   "outputs": [],
   "source": [
    "# Read password from file\n",
    "f= open('../../../password.txt','r')\n",
    "pw = f.read()\n",
    "f.close()\n",
    "\n",
    "#ODBC (Includes Node.js) (SQL authentication)\n",
    "s = \"Driver={ODBC Driver 18 for SQL Server};Server=tcp:serverz.database.windows.net,1433;Database=DB_LAB03;Uid=tendangnhap;\"+f\"Pwd={pw};\"+\"Encrypt=yes;TrustServerCertificate=no;Connection Timeout=30;\"\n"
   ]
  },
  {
   "cell_type": "code",
   "execution_count": 4,
   "metadata": {},
   "outputs": [],
   "source": [
    "## Connect to the database\n",
    "conn = pyodbc.connect(s)\n",
    "cursor = conn.cursor()"
   ]
  },
  {
   "cell_type": "code",
   "execution_count": 5,
   "metadata": {},
   "outputs": [
    {
     "name": "stdout",
     "output_type": "stream",
     "text": [
      "('DB_LAB03', 'dbo', 'tbl_Student_Performance', 'BASE TABLE')\n",
      "('DB_LAB03', 'dbo', 'tbl_CHICAGO_PUBLIC_SCHOOLS', 'BASE TABLE')\n",
      "('DB_LAB03', 'dbo', 'tbl_Address', 'BASE TABLE')\n",
      "('DB_LAB03', 'dbo', 'tbl_Contact', 'BASE TABLE')\n",
      "('DB_LAB03', 'dbo', 'tbl_Demographics', 'BASE TABLE')\n",
      "('DB_LAB03', 'dbo', 'tbl_Family_Engagement_Environment', 'BASE TABLE')\n",
      "('DB_LAB03', 'dbo', 'tbl_ISAT', 'BASE TABLE')\n",
      "('DB_LAB03', 'sys', 'database_firewall_rules', 'VIEW')\n",
      "('DB_LAB03', 'dbo', 'sysdiagrams', 'BASE TABLE')\n",
      "('DB_LAB03', 'dbo', 'tbl_Teachers', 'BASE TABLE')\n",
      "('DB_LAB03', 'dbo', 'tbl_Leaders', 'BASE TABLE')\n",
      "('DB_LAB03', 'dbo', 'tbl_Instruction', 'BASE TABLE')\n",
      "('DB_LAB03', 'dbo', 'tbl_School_Survey', 'BASE TABLE')\n",
      "('DB_LAB03', 'dbo', 'tbl_Academic_Performance', 'BASE TABLE')\n",
      "('DB_LAB03', 'dbo', 'tbl_Graduation_Enrollment', 'BASE TABLE')\n"
     ]
    }
   ],
   "source": [
    "#Show all tables\n",
    "cursor.execute(\"SELECT * FROM INFORMATION_SCHEMA.TABLES\")\n",
    "tables = cursor.fetchall()\n",
    "for table in tables:\n",
    "    print(table)"
   ]
  },
  {
   "cell_type": "code",
   "execution_count": 7,
   "metadata": {},
   "outputs": [
    {
     "name": "stdout",
     "output_type": "stream",
     "text": [
      "tbl_Student_Performance\n",
      "tbl_CHICAGO_PUBLIC_SCHOOLS\n",
      "tbl_Address\n",
      "tbl_Contact\n",
      "tbl_Demographics\n",
      "tbl_Family_Engagement_Environment\n",
      "tbl_ISAT\n",
      "database_firewall_rules\n",
      "sysdiagrams\n",
      "tbl_Teachers\n",
      "tbl_Leaders\n",
      "tbl_Instruction\n",
      "tbl_School_Survey\n",
      "tbl_Academic_Performance\n",
      "tbl_Graduation_Enrollment\n"
     ]
    }
   ],
   "source": [
    "for table in tables :\n",
    "    print(table[2])"
   ]
  },
  {
   "cell_type": "code",
   "execution_count": 11,
   "metadata": {},
   "outputs": [],
   "source": [
    "# Export to csv (table[2] is the table name)\n",
    "for table in tables:\n",
    "    try:\n",
    "        cursor.execute(f\"SELECT * FROM dbo.{table[2]}\")\n",
    "        rows = cursor.fetchall()\n",
    "        columns = [column[0] for column in cursor.description]\n",
    "        df = pd.DataFrame.from_records(rows, columns=columns)\n",
    "        df.to_csv(f\"{table[2]}.csv\", index=False)\n",
    "    except:\n",
    "        continue"
   ]
  }
 ],
 "metadata": {
  "kernelspec": {
   "display_name": "base",
   "language": "python",
   "name": "python3"
  },
  "language_info": {
   "codemirror_mode": {
    "name": "ipython",
    "version": 3
   },
   "file_extension": ".py",
   "mimetype": "text/x-python",
   "name": "python",
   "nbconvert_exporter": "python",
   "pygments_lexer": "ipython3",
   "version": "3.11.7"
  }
 },
 "nbformat": 4,
 "nbformat_minor": 2
}
